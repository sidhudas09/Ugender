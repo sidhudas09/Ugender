{
  "cells": [
    {
      "cell_type": "code",
      "execution_count": null,
      "metadata": {
        "collapsed": true,
        "execution": {
          "iopub.execute_input": "2020-12-21T15:33:23.842Z",
          "iopub.status.busy": "2020-12-21T15:33:23.806Z",
          "iopub.status.idle": "2020-12-21T15:33:26.346Z",
          "shell.execute_reply": "2020-12-21T15:33:26.359Z"
        },
        "jupyter": {
          "outputs_hidden": false,
          "source_hidden": false
        },
        "nteract": {
          "transient": {
            "deleting": false
          }
        },
        "trusted": true
      },
      "outputs": [],
      "source": "import os\r\nimport time\r\nimport azure.cosmos\r\n\r\ndb_name = \"iddbtest\"\r\ncontainer_name = \"idcltest\"\r\n\r\n# Create the database if it doesn't exist\r\ntry:\r\n    cosmos_client.create_database(db_name)\r\n    print('Database created')\r\n    time.sleep(2)\r\nexcept azure.cosmos.errors.CosmosHttpResponseError as e:\r\n    if e.status_code == 409:\r\n       print('Database already exists')\r\n    else: \r\n        raise\r\n\r\n# Reset the container\r\ndatabase_client = cosmos_client.get_database_client(db_name)\r\ncontainers = database_client.list_containers()\r\nif (any(container['id'] == container_name for container in containers)):\r\n    database_client.delete_container(container_name)\r\n    print('Container dropped')\r\ndatabase_client.create_container(container_name, azure.cosmos.PartitionKey(path=\"/id\"))\r\nprint('Container created')"
    },
    {
      "cell_type": "code",
      "execution_count": null,
      "metadata": {
        "collapsed": true,
        "execution": {
          "iopub.execute_input": "2020-12-21T15:43:13.710Z",
          "iopub.status.busy": "2020-12-21T15:43:13.655Z",
          "iopub.status.idle": "2020-12-21T15:43:21.979Z",
          "shell.execute_reply": "2020-12-21T15:43:22.054Z"
        },
        "jupyter": {
          "outputs_hidden": false,
          "source_hidden": false
        },
        "nteract": {
          "transient": {
            "deleting": false
          }
        },
        "trusted": true
      },
      "outputs": [],
      "source": "import urllib.request, json\r\n\r\n# fetch and load the data\r\nwith urllib.request.urlopen(\"https://cosmosnotebooksdata.blob.core.windows.net/notebookdata/indexing.json\") as url:\r\n    docs = json.loads(url.read().decode())\r\n\r\n# insert the docs\r\ncontainer_client = database_client.get_container_client(container_name)\r\nprogress = 1\r\nfor doc in docs:\r\n    if progress % 10 == 0:\r\n        print(\"Inserting document: %5d / 10000\\r\"% (progress), end=\"\", flush=True)\r\n    container_client.create_item(doc)\r\n    progress += 1"
    },
    {
      "cell_type": "code",
      "execution_count": 6,
      "metadata": {
        "collapsed": true,
        "execution": {
          "iopub.execute_input": "2020-12-21T15:44:59.656Z",
          "iopub.status.busy": "2020-12-21T15:44:59.633Z",
          "iopub.status.idle": "2020-12-21T15:44:59.697Z",
          "shell.execute_reply": "2020-12-21T15:44:59.712Z"
        },
        "jupyter": {
          "outputs_hidden": false,
          "source_hidden": false
        },
        "nteract": {
          "transient": {
            "deleting": false
          }
        },
        "trusted": true
      },
      "outputs": [
        {
          "name": "stdout",
          "output_type": "stream",
          "text": "Got 1 result(s)\nTime elapsed: 13 ms\nRequest charge: 2.83 RUs\n"
        }
      ],
      "source": "query = 'SELECT * FROM c WHERE c.field1 = \"Mattie87\"'\r\nstart = time.time()\r\nresults = list(container_client.query_items(\r\n    query=query,\r\n    enable_cross_partition_query=True))\r\nend = time.time()\r\n\r\nprint('Got ' + str(len(results)) + ' result(s)')\r\nprint('Time elapsed: %d ms'% ((end - start) * 1000))\r\nprint('Request charge: ' + container_client.client_connection.last_response_headers['x-ms-request-charge'] + ' RUs')"
    },
    {
      "cell_type": "code",
      "execution_count": 7,
      "metadata": {
        "collapsed": true,
        "execution": {
          "iopub.execute_input": "2020-12-21T15:45:22.663Z",
          "iopub.status.busy": "2020-12-21T15:45:22.559Z",
          "iopub.status.idle": "2020-12-21T15:45:22.701Z",
          "shell.execute_reply": "2020-12-21T15:45:22.717Z"
        },
        "jupyter": {
          "outputs_hidden": false,
          "source_hidden": false
        },
        "nteract": {
          "transient": {
            "deleting": false
          }
        },
        "trusted": true
      },
      "outputs": [
        {
          "name": "stdout",
          "output_type": "stream",
          "text": "Indexing policy updated\n"
        }
      ],
      "source": "database_client.replace_container(container_client,\r\n    partition_key=azure.cosmos.PartitionKey(path=\"/id\"),\r\n    indexing_policy={\r\n        'indexingMode': 'none'\r\n    })\r\nprint('Indexing policy updated')"
    },
    {
      "cell_type": "code",
      "execution_count": 9,
      "metadata": {
        "collapsed": true,
        "execution": {
          "iopub.execute_input": "2020-12-21T15:46:12.023Z",
          "iopub.status.busy": "2020-12-21T15:46:12.013Z",
          "iopub.status.idle": "2020-12-21T15:46:12.049Z",
          "shell.execute_reply": "2020-12-21T15:46:12.062Z"
        },
        "jupyter": {
          "outputs_hidden": false,
          "source_hidden": false
        },
        "nteract": {
          "transient": {
            "deleting": false
          }
        },
        "trusted": true
      },
      "outputs": [
        {
          "name": "stdout",
          "output_type": "stream",
          "text": "Got 1 result(s)\nTime elapsed: 16 ms\nRequest charge: 12.31 RUs\n"
        }
      ],
      "source": "query = 'SELECT * FROM c WHERE c.field1 = \"Mattie87\"'\r\nstart = time.time()\r\nresults = list(container_client.query_items(\r\n    query=query,\r\n    enable_cross_partition_query=True))\r\nend = time.time()\r\n\r\nprint('Got ' + str(len(results)) + ' result(s)')\r\nprint('Time elapsed: %d ms'% ((end - start) * 1000))\r\nprint('Request charge: ' + container_client.client_connection.last_response_headers['x-ms-request-charge'] + ' RUs')"
    },
    {
      "cell_type": "code",
      "execution_count": 10,
      "metadata": {
        "collapsed": true,
        "execution": {
          "iopub.execute_input": "2020-12-21T15:47:21.097Z",
          "iopub.status.busy": "2020-12-21T15:47:21.026Z",
          "iopub.status.idle": "2020-12-21T15:47:25.998Z",
          "shell.execute_reply": "2020-12-21T15:47:26.012Z"
        },
        "jupyter": {
          "outputs_hidden": false,
          "source_hidden": false
        },
        "nteract": {
          "transient": {
            "deleting": false
          }
        },
        "trusted": true
      },
      "outputs": [
        {
          "name": "stdout",
          "output_type": "stream",
          "text": "Indexing policy updated\nCurrent index transformation progress: 100%\nIndex transformation completed\n"
        }
      ],
      "source": "database_client.replace_container(container_client,\r\n    partition_key=azure.cosmos.PartitionKey(path=\"/id\"),\r\n    indexing_policy={\r\n        'indexingMode': 'consistent',\r\n        'includedPaths': [{'path' : '/*'}],\r\n        'excludedPaths': [{'path' : '/field2/?'}]\r\n    })\r\nprint('Indexing policy updated')\r\n\r\ncontainer_client.read(populate_quota_info=True)\r\nindex_transformation_progress = container_client.client_connection.last_response_headers['x-ms-documentdb-collection-index-transformation-progress']\r\nprint('\\rCurrent index transformation progress: ' + index_transformation_progress + '%', end=\"\", flush=True)\r\nwhile (index_transformation_progress != '100'):\r\n    time.sleep(5)\r\n    container_client.read(populate_quota_info=True)\r\n    index_transformation_progress = container_client.client_connection.last_response_headers['x-ms-documentdb-collection-index-transformation-progress']\r\n    print('\\rCurrent index transformation progress: ' + index_transformation_progress + '%', end=\"\", flush=True)\r\nprint('\\nIndex transformation completed')"
    },
    {
      "cell_type": "code",
      "execution_count": 12,
      "metadata": {
        "collapsed": true,
        "execution": {
          "iopub.execute_input": "2020-12-21T15:48:23.571Z",
          "iopub.status.busy": "2020-12-21T15:48:23.557Z",
          "iopub.status.idle": "2020-12-21T15:48:23.626Z",
          "shell.execute_reply": "2020-12-21T15:48:23.654Z"
        },
        "jupyter": {
          "outputs_hidden": false,
          "source_hidden": false
        },
        "nteract": {
          "transient": {
            "deleting": false
          }
        },
        "trusted": true
      },
      "outputs": [
        {
          "name": "stdout",
          "output_type": "stream",
          "text": "Got 1 result(s)\nTime elapsed: 11 ms\nRequest charge: 2.83 RUs\n"
        }
      ],
      "source": "query = 'SELECT * FROM c WHERE c.field1 = \"Mattie87\"'\r\nstart = time.time()\r\nresults = list(container_client.query_items(\r\n    query=query,\r\n    enable_cross_partition_query=True))\r\nend = time.time()\r\n\r\nprint('Got ' + str(len(results)) + ' result(s)')\r\nprint('Time elapsed: %d ms'% ((end - start) * 1000))\r\nprint('Request charge: ' + container_client.client_connection.last_response_headers['x-ms-request-charge'] + ' RUs')"
    },
    {
      "cell_type": "code",
      "execution_count": 13,
      "metadata": {
        "collapsed": true,
        "execution": {
          "iopub.execute_input": "2020-12-21T15:48:54.086Z",
          "iopub.status.busy": "2020-12-21T15:48:54.071Z",
          "iopub.status.idle": "2020-12-21T15:48:54.150Z",
          "shell.execute_reply": "2020-12-21T15:48:54.306Z"
        },
        "jupyter": {
          "outputs_hidden": false,
          "source_hidden": false
        },
        "nteract": {
          "transient": {
            "deleting": false
          }
        },
        "trusted": true
      },
      "outputs": [
        {
          "name": "stdout",
          "output_type": "stream",
          "text": "Got 0 result(s)\nTime elapsed: 12 ms\nRequest charge: 12.31 RUs\n"
        }
      ],
      "source": "query = 'SELECT * FROM c WHERE c.field2 = 3188'\r\nstart = time.time()\r\nresults = list(container_client.query_items(\r\n    query=query,\r\n    enable_cross_partition_query=True))\r\nend = time.time()\r\n\r\nprint('Got ' + str(len(results)) + ' result(s)')\r\nprint('Time elapsed: %d ms'% ((end - start) * 1000))\r\nprint('Request charge: ' + container_client.client_connection.last_response_headers['x-ms-request-charge'] + ' RUs')"
    }
  ],
  "metadata": {
    "language_info": {
      "file_extension": "ipynb",
      "mimetype": "application/json",
      "name": "python",
      "version": "3.7"
    },
    "nteract": {
      "version": "dataExplorer 1.0"
    }
  },
  "nbformat": 4,
  "nbformat_minor": 4
}
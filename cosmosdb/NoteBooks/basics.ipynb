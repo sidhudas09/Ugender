{
  "cells": [
    {
      "cell_type": "code",
      "execution_count": 1,
      "metadata": {
        "collapsed": true,
        "execution": {
          "iopub.execute_input": "2020-12-21T13:57:13.476Z",
          "iopub.status.busy": "2020-12-21T13:57:13.366Z",
          "iopub.status.idle": "2020-12-21T13:57:13.923Z",
          "shell.execute_reply": "2020-12-21T13:57:13.951Z"
        },
        "jupyter": {
          "outputs_hidden": false,
          "source_hidden": false
        },
        "nteract": {
          "transient": {
            "deleting": false
          }
        },
        "trusted": false
      },
      "outputs": [
        {
          "name": "stdout",
          "output_type": "stream",
          "text": "Database RetailDemo created\nContainer WebsiteData created\n"
        }
      ],
      "source": "import azure.cosmos\r\nfrom azure.cosmos.partition_key import PartitionKey\r\n\r\ndatabase = cosmos_client.create_database_if_not_exists('RetailDemo')\r\nprint('Database RetailDemo created')\r\n\r\ncontainer = database.create_container_if_not_exists(id='WebsiteData', partition_key=PartitionKey(path='/CartID'))\r\nprint('Container WebsiteData created')"
    },
    {
      "cell_type": "code",
      "execution_count": 2,
      "metadata": {
        "collapsed": true,
        "execution": {
          "iopub.status.busy": "2020-12-21T13:58:03.073Z",
          "iopub.status.idle": "2020-12-21T13:58:03.164Z",
          "shell.execute_reply": "2020-12-21T13:58:03.233Z"
        },
        "jupyter": {
          "outputs_hidden": false,
          "source_hidden": false
        },
        "nteract": {
          "transient": {
            "deleting": false
          }
        },
        "trusted": false
      },
      "outputs": [],
      "source": "%database RetailDemo"
    },
    {
      "cell_type": "code",
      "execution_count": 3,
      "metadata": {
        "collapsed": true,
        "execution": {
          "iopub.status.busy": "2020-12-21T13:58:53.929Z",
          "iopub.status.idle": "2020-12-21T13:58:54.051Z",
          "shell.execute_reply": "2020-12-21T13:58:54.057Z"
        },
        "jupyter": {
          "outputs_hidden": false,
          "source_hidden": false
        },
        "nteract": {
          "transient": {
            "deleting": false
          }
        },
        "trusted": false
      },
      "outputs": [],
      "source": "%container WebsiteData"
    },
    {
      "cell_type": "code",
      "execution_count": 4,
      "metadata": {
        "collapsed": true,
        "execution": {
          "iopub.status.busy": "2020-12-21T13:59:35.806Z",
          "iopub.status.idle": "2020-12-21T13:59:36.773Z",
          "shell.execute_reply": "2020-12-21T13:59:36.882Z"
        },
        "jupyter": {
          "outputs_hidden": false,
          "source_hidden": false
        },
        "nteract": {
          "transient": {
            "deleting": false
          }
        },
        "trusted": false
      },
      "outputs": [
        {
          "data": {
            "text/html": "\r\n<span style='color:#0078D4'>\r\nDocuments successfully uploaded to WebsiteData <br/>\r\nTotal number of documents imported:<br/>\r\n&nbsp;&nbsp;Success: <b>7</b> <br/>\r\n&nbsp;&nbsp;Failure: <b>0</b> <br/>\r\nTotal time taken : <b>00:00:00</b> hours <br/>\r\nTotal RUs consumed : <b>67.97</b> <br/>\r\n<br/>\r\n</span>\r\n"
          },
          "metadata": {},
          "output_type": "display_data"
        }
      ],
      "source": "%%upload --databaseName RetailDemo --containerName WebsiteData --url https://cosmosnotebooksdata.blob.core.windows.net/notebookdata/websiteData-small.json"
    },
    {
      "cell_type": "code",
      "execution_count": 2,
      "metadata": {
        "collapsed": true,
        "execution": {
          "iopub.execute_input": "2020-12-21T14:00:35.566Z",
          "iopub.status.busy": "2020-12-21T14:00:35.494Z",
          "iopub.status.idle": "2020-12-21T14:00:35.620Z",
          "shell.execute_reply": "2020-12-21T14:00:35.656Z"
        },
        "jupyter": {
          "outputs_hidden": false,
          "source_hidden": false
        },
        "nteract": {
          "transient": {
            "deleting": false
          }
        },
        "trusted": false
      },
      "outputs": [
        {
          "data": {
            "text/html": "\r\n<div>\r\n  <style type='text/css' scoped>\r\n.collapsible {\r\n  background-color: #fff;\r\n  color: #0078D4;\r\n  cursor: pointer;\r\n  padding: 10px;\r\n  border: none;\r\n  text-align: left;\r\n  outline: none;\r\n  font-size: 15px;\r\n  border-radius: 5px;\r\n  margin: 5px\r\n}\r\n\r\n.active, .collapsible:hover {\r\n  color: #4db2ff;\r\n}\r\n\r\n.content {\r\n  margin: 2px;\r\n  padding: 0 18px;\r\n  overflow: hidden;\r\n  background-color: #fff;\r\n  height: 0px;\r\n  -moz-transition: height .2s ease-out;\r\n  -ms-transition: height .2s ease-out;\r\n  -o-transition: height .2s ease-out;\r\n  -webkit-transition: height .2s ease-out;\r\n  transition: height .2s ease-out;\r\n}\r\n</style>\r\n\r\n<button type='button' class='collapsible'>� View Query Metrics</button>\r\n  \r\n<div class='content'>\r\n  <div class='measuringWrapper'>\r\n    <span style=\"color:#0078D4\"><b>totalExecutionTimeInMs    </b>:    0.34<br/><b>queryCompileTimeInMs    </b>:    0.07<br/><b>queryLogicalPlanBuildTimeInMs    </b>:    0.02<br/><b>queryPhysicalPlanBuildTimeInMs    </b>:    0.03<br/><b>queryOptimizationTimeInMs    </b>:    0<br/><b>VMExecutionTimeInMs    </b>:    0.08<br/><b>indexLookupTimeInMs    </b>:    0<br/><b>documentLoadTimeInMs    </b>:    0.04<br/><b>systemFunctionExecuteTimeInMs    </b>:    0<br/><b>userFunctionExecuteTimeInMs    </b>:    0<br/><b>retrievedDocumentCount    </b>:    7<br/><b>retrievedDocumentSize    </b>:    3625<br/><b>outputDocumentCount    </b>:    7<br/><b>outputDocumentSize    </b>:    640<br/><b>writeOutputTimeInMs    </b>:    0.01<br/><b>averageIndexUtilizationRation    </b>:    1<br/></span>\r\n  </div>\r\n</div>\r\n\r\n<script>\r\nvar coll = document.getElementsByClassName('collapsible');\r\nvar i;\r\n\r\nfor (i = 0; i < coll.length; i++) {\r\n  \r\n  coll[i].addEventListener('click', function() {\r\n    this.classList.toggle('active');\r\n    var content = this.nextElementSibling;\r\n    \r\n    if (content.clientHeight != 0) {\r\n      this.textContent = '� View Query Metrics';\r\n      content.style.height = '0px';\r\n    }\r\n    else {\r\n      this.textContent = '� Hide Query Metrics';\r\n      content.style.height = content.children[0].clientHeight + 'px';\r\n    }\r\n  });\r\n}\r\n</script>\r\n</div>"
          },
          "metadata": {},
          "output_type": "display_data"
        },
        {
          "data": {
            "text/html": "<div>\n<style scoped>\n    .dataframe tbody tr th:only-of-type {\n        vertical-align: middle;\n    }\n\n    .dataframe tbody tr th {\n        vertical-align: top;\n    }\n\n    .dataframe thead th {\n        text-align: right;\n    }\n</style>\n<table border=\"1\" class=\"dataframe\">\n  <thead>\n    <tr style=\"text-align: right;\">\n      <th></th>\n      <th>Action</th>\n      <th>ItemRevenue</th>\n      <th>Country</th>\n      <th>Item</th>\n    </tr>\n  </thead>\n  <tbody>\n    <tr>\n      <th>0</th>\n      <td>Viewed</td>\n      <td>9.00</td>\n      <td>Tunisia</td>\n      <td>Black Tee</td>\n    </tr>\n    <tr>\n      <th>1</th>\n      <td>Added</td>\n      <td>19.99</td>\n      <td>Syrian Arab Republic</td>\n      <td>Button-Up Shirt</td>\n    </tr>\n    <tr>\n      <th>2</th>\n      <td>Viewed</td>\n      <td>55.00</td>\n      <td>Czech Republic</td>\n      <td>Rainjacket</td>\n    </tr>\n    <tr>\n      <th>3</th>\n      <td>Viewed</td>\n      <td>3.75</td>\n      <td>Guinea-Bissau</td>\n      <td>Socks</td>\n    </tr>\n    <tr>\n      <th>4</th>\n      <td>Added</td>\n      <td>3.75</td>\n      <td>Guinea-Bissau</td>\n      <td>Socks</td>\n    </tr>\n    <tr>\n      <th>5</th>\n      <td>Viewed</td>\n      <td>19.99</td>\n      <td>Antigua and Barbuda</td>\n      <td>Flannel Shirt</td>\n    </tr>\n    <tr>\n      <th>6</th>\n      <td>Viewed</td>\n      <td>350.00</td>\n      <td>Iceland</td>\n      <td>Cosmos T-shirt</td>\n    </tr>\n  </tbody>\n</table>\n</div>",
            "text/plain": "   Action  ItemRevenue               Country             Item\n0  Viewed         9.00               Tunisia        Black Tee\n1   Added        19.99  Syrian Arab Republic  Button-Up Shirt\n2  Viewed        55.00        Czech Republic       Rainjacket\n3  Viewed         3.75         Guinea-Bissau            Socks\n4   Added         3.75         Guinea-Bissau            Socks\n5  Viewed        19.99   Antigua and Barbuda    Flannel Shirt\n6  Viewed       350.00               Iceland   Cosmos T-shirt"
          },
          "metadata": {},
          "output_type": "display_data"
        }
      ],
      "source": "%%sql\r\nSELECT c.Action, c.Price as ItemRevenue, c.Country, c.Item FROM c"
    },
    {
      "cell_type": "code",
      "execution_count": 3,
      "metadata": {
        "collapsed": true,
        "execution": {
          "iopub.execute_input": "2020-12-21T14:08:05.800Z",
          "iopub.status.busy": "2020-12-21T14:08:05.751Z",
          "iopub.status.idle": "2020-12-21T14:08:05.804Z",
          "shell.execute_reply": "2020-12-21T14:08:05.807Z"
        },
        "jupyter": {
          "outputs_hidden": false,
          "source_hidden": false
        },
        "nteract": {
          "transient": {
            "deleting": false
          }
        },
        "trusted": false
      },
      "outputs": [
        {
          "data": {
            "text/html": "\r\n<div>\r\n  <style type='text/css' scoped>\r\n.collapsible {\r\n  background-color: #fff;\r\n  color: #0078D4;\r\n  cursor: pointer;\r\n  padding: 10px;\r\n  border: none;\r\n  text-align: left;\r\n  outline: none;\r\n  font-size: 15px;\r\n  border-radius: 5px;\r\n  margin: 5px\r\n}\r\n\r\n.active, .collapsible:hover {\r\n  color: #4db2ff;\r\n}\r\n\r\n.content {\r\n  margin: 2px;\r\n  padding: 0 18px;\r\n  overflow: hidden;\r\n  background-color: #fff;\r\n  height: 0px;\r\n  -moz-transition: height .2s ease-out;\r\n  -ms-transition: height .2s ease-out;\r\n  -o-transition: height .2s ease-out;\r\n  -webkit-transition: height .2s ease-out;\r\n  transition: height .2s ease-out;\r\n}\r\n</style>\r\n\r\n<button type='button' class='collapsible'>� View Query Metrics</button>\r\n  \r\n<div class='content'>\r\n  <div class='measuringWrapper'>\r\n    <span style=\"color:#0078D4\"><b>totalExecutionTimeInMs    </b>:    0.32<br/><b>queryCompileTimeInMs    </b>:    0.06<br/><b>queryLogicalPlanBuildTimeInMs    </b>:    0.01<br/><b>queryPhysicalPlanBuildTimeInMs    </b>:    0.02<br/><b>queryOptimizationTimeInMs    </b>:    0<br/><b>VMExecutionTimeInMs    </b>:    0.08<br/><b>indexLookupTimeInMs    </b>:    0<br/><b>documentLoadTimeInMs    </b>:    0.04<br/><b>systemFunctionExecuteTimeInMs    </b>:    0<br/><b>userFunctionExecuteTimeInMs    </b>:    0<br/><b>retrievedDocumentCount    </b>:    7<br/><b>retrievedDocumentSize    </b>:    3625<br/><b>outputDocumentCount    </b>:    7<br/><b>outputDocumentSize    </b>:    640<br/><b>writeOutputTimeInMs    </b>:    0.01<br/><b>averageIndexUtilizationRation    </b>:    1<br/></span>\r\n  </div>\r\n</div>\r\n\r\n<script>\r\nvar coll = document.getElementsByClassName('collapsible');\r\nvar i;\r\n\r\nfor (i = 0; i < coll.length; i++) {\r\n  \r\n  coll[i].addEventListener('click', function() {\r\n    this.classList.toggle('active');\r\n    var content = this.nextElementSibling;\r\n    \r\n    if (content.clientHeight != 0) {\r\n      this.textContent = '� View Query Metrics';\r\n      content.style.height = '0px';\r\n    }\r\n    else {\r\n      this.textContent = '� Hide Query Metrics';\r\n      content.style.height = content.children[0].clientHeight + 'px';\r\n    }\r\n  });\r\n}\r\n</script>\r\n</div>"
          },
          "metadata": {},
          "output_type": "display_data"
        }
      ],
      "source": "%%sql --database RetailDemo --container WebsiteData --output df_cosmos\r\nSELECT c.Action, c.Price as ItemRevenue, c.Country, c.Item FROM c"
    },
    {
      "cell_type": "code",
      "execution_count": 4,
      "metadata": {
        "collapsed": true,
        "execution": {
          "iopub.execute_input": "2020-12-21T14:08:34.311Z",
          "iopub.status.busy": "2020-12-21T14:08:34.227Z",
          "iopub.status.idle": "2020-12-21T14:08:34.358Z",
          "shell.execute_reply": "2020-12-21T14:08:34.367Z"
        },
        "jupyter": {
          "outputs_hidden": false,
          "source_hidden": false
        },
        "nteract": {
          "transient": {
            "deleting": false
          }
        },
        "trusted": false
      },
      "outputs": [
        {
          "data": {
            "text/html": "<div>\n<style scoped>\n    .dataframe tbody tr th:only-of-type {\n        vertical-align: middle;\n    }\n\n    .dataframe tbody tr th {\n        vertical-align: top;\n    }\n\n    .dataframe thead th {\n        text-align: right;\n    }\n</style>\n<table border=\"1\" class=\"dataframe\">\n  <thead>\n    <tr style=\"text-align: right;\">\n      <th></th>\n      <th>Action</th>\n      <th>ItemRevenue</th>\n      <th>Country</th>\n      <th>Item</th>\n    </tr>\n  </thead>\n  <tbody>\n    <tr>\n      <th>0</th>\n      <td>Viewed</td>\n      <td>9.00</td>\n      <td>Tunisia</td>\n      <td>Black Tee</td>\n    </tr>\n    <tr>\n      <th>1</th>\n      <td>Added</td>\n      <td>19.99</td>\n      <td>Syrian Arab Republic</td>\n      <td>Button-Up Shirt</td>\n    </tr>\n    <tr>\n      <th>2</th>\n      <td>Viewed</td>\n      <td>55.00</td>\n      <td>Czech Republic</td>\n      <td>Rainjacket</td>\n    </tr>\n    <tr>\n      <th>3</th>\n      <td>Viewed</td>\n      <td>3.75</td>\n      <td>Guinea-Bissau</td>\n      <td>Socks</td>\n    </tr>\n    <tr>\n      <th>4</th>\n      <td>Added</td>\n      <td>3.75</td>\n      <td>Guinea-Bissau</td>\n      <td>Socks</td>\n    </tr>\n    <tr>\n      <th>5</th>\n      <td>Viewed</td>\n      <td>19.99</td>\n      <td>Antigua and Barbuda</td>\n      <td>Flannel Shirt</td>\n    </tr>\n    <tr>\n      <th>6</th>\n      <td>Viewed</td>\n      <td>350.00</td>\n      <td>Iceland</td>\n      <td>Cosmos T-shirt</td>\n    </tr>\n  </tbody>\n</table>\n</div>",
            "text/plain": "   Action  ItemRevenue               Country             Item\n0  Viewed         9.00               Tunisia        Black Tee\n1   Added        19.99  Syrian Arab Republic  Button-Up Shirt\n2  Viewed        55.00        Czech Republic       Rainjacket\n3  Viewed         3.75         Guinea-Bissau            Socks\n4   Added         3.75         Guinea-Bissau            Socks\n5  Viewed        19.99   Antigua and Barbuda    Flannel Shirt\n6  Viewed       350.00               Iceland   Cosmos T-shirt"
          },
          "execution_count": 4,
          "metadata": {},
          "output_type": "execute_result"
        }
      ],
      "source": "# See a sample of the result\r\ndf_cosmos.head(10)"
    },
    {
      "cell_type": "code",
      "execution_count": 6,
      "metadata": {
        "collapsed": true,
        "execution": {
          "iopub.execute_input": "2020-12-21T14:09:53.564Z",
          "iopub.status.busy": "2020-12-21T14:09:53.554Z",
          "iopub.status.idle": "2020-12-21T14:09:53.956Z",
          "shell.execute_reply": "2020-12-21T14:09:53.974Z"
        },
        "jupyter": {
          "outputs_hidden": false,
          "source_hidden": false
        },
        "nteract": {
          "transient": {
            "deleting": false
          }
        },
        "trusted": false
      },
      "outputs": [
        {
          "data": {
            "application/vnd.dataresource+json": {
              "data": [
                {
                  "Country": "Antigua and Barbuda",
                  "ItemRevenue": 19.99,
                  "index": 0
                },
                {
                  "Country": "Czech Republic",
                  "ItemRevenue": 55,
                  "index": 1
                },
                {
                  "Country": "Guinea-Bissau",
                  "ItemRevenue": 7.5,
                  "index": 2
                },
                {
                  "Country": "Iceland",
                  "ItemRevenue": 350,
                  "index": 3
                },
                {
                  "Country": "Syrian Arab Republic",
                  "ItemRevenue": 19.99,
                  "index": 4
                },
                {
                  "Country": "Tunisia",
                  "ItemRevenue": 9,
                  "index": 5
                }
              ],
              "schema": {
                "fields": [
                  {
                    "name": "index",
                    "type": "integer"
                  },
                  {
                    "name": "Country",
                    "type": "string"
                  },
                  {
                    "name": "ItemRevenue",
                    "type": "number"
                  }
                ],
                "pandas_version": "0.20.0",
                "primaryKey": [
                  "index"
                ]
              }
            },
            "text/html": "<div>\n<style scoped>\n    .dataframe tbody tr th:only-of-type {\n        vertical-align: middle;\n    }\n\n    .dataframe tbody tr th {\n        vertical-align: top;\n    }\n\n    .dataframe thead th {\n        text-align: right;\n    }\n</style>\n<table border=\"1\" class=\"dataframe\">\n  <thead>\n    <tr style=\"text-align: right;\">\n      <th></th>\n      <th>Country</th>\n      <th>ItemRevenue</th>\n    </tr>\n  </thead>\n  <tbody>\n    <tr>\n      <th>0</th>\n      <td>Antigua and Barbuda</td>\n      <td>19.99</td>\n    </tr>\n    <tr>\n      <th>1</th>\n      <td>Czech Republic</td>\n      <td>55.00</td>\n    </tr>\n    <tr>\n      <th>2</th>\n      <td>Guinea-Bissau</td>\n      <td>7.50</td>\n    </tr>\n    <tr>\n      <th>3</th>\n      <td>Iceland</td>\n      <td>350.00</td>\n    </tr>\n    <tr>\n      <th>4</th>\n      <td>Syrian Arab Republic</td>\n      <td>19.99</td>\n    </tr>\n    <tr>\n      <th>5</th>\n      <td>Tunisia</td>\n      <td>9.00</td>\n    </tr>\n  </tbody>\n</table>\n</div>",
            "text/plain": "                Country  ItemRevenue\n0   Antigua and Barbuda        19.99\n1        Czech Republic        55.00\n2         Guinea-Bissau         7.50\n3               Iceland       350.00\n4  Syrian Arab Republic        19.99\n5               Tunisia         9.00"
          },
          "metadata": {
            "application/vnd.dataresource+json": {
              "__altered": false,
              "_root": {
                "entries": [
                  [
                    "__altered",
                    false
                  ],
                  [
                    "_root",
                    {
                      "entries": [
                        [
                          "dx",
                          {
                            "areaType": "hexbin",
                            "barGrouping": "Clustered",
                            "chart": {
                              "dim1": "Country",
                              "dim2": "none",
                              "dim3": "none",
                              "metric1": "ItemRevenue",
                              "metric2": "none",
                              "metric3": "none",
                              "metric4": "none",
                              "networkLabel": "none",
                              "timeseriesSort": "array-order"
                            },
                            "colors": [
                              "#DA752E",
                              "#E5C209",
                              "#1441A0",
                              "#B86117",
                              "#4D430C",
                              "#1DB390",
                              "#B3331D",
                              "#088EB2",
                              "#417505",
                              "#E479A8",
                              "#F9F39E",
                              "#5782DC",
                              "#EBA97B",
                              "#A2AB60",
                              "#B291CF",
                              "#8DD2C2",
                              "#E6A19F",
                              "#3DC7E0",
                              "#98CE5B"
                            ],
                            "hierarchyType": "dendrogram",
                            "lineType": "line",
                            "marginalGraphics": "none",
                            "networkType": "force",
                            "pieceType": "bar",
                            "selectedDimensions": [
                              "Country"
                            ],
                            "selectedMetrics": [],
                            "summaryType": "violin",
                            "trendLine": "none",
                            "view": "grid"
                          }
                        ]
                      ],
                      "ownerID": {}
                    }
                  ],
                  [
                    "dx",
                    {
                      "areaType": "hexbin",
                      "barGrouping": "Clustered",
                      "chart": {
                        "dim1": "Country",
                        "dim2": "none",
                        "dim3": "none",
                        "metric1": "ItemRevenue",
                        "metric2": "none",
                        "metric3": "none",
                        "metric4": "none",
                        "networkLabel": "none",
                        "timeseriesSort": "array-order"
                      },
                      "colors": [
                        "#DA752E",
                        "#E5C209",
                        "#1441A0",
                        "#B86117",
                        "#4D430C",
                        "#1DB390",
                        "#B3331D",
                        "#088EB2",
                        "#417505",
                        "#E479A8",
                        "#F9F39E",
                        "#5782DC",
                        "#EBA97B",
                        "#A2AB60",
                        "#B291CF",
                        "#8DD2C2",
                        "#E6A19F",
                        "#3DC7E0",
                        "#98CE5B"
                      ],
                      "hierarchyType": "dendrogram",
                      "lineType": "line",
                      "marginalGraphics": "none",
                      "networkType": "force",
                      "pieceType": "bar",
                      "selectedDimensions": [
                        "Country"
                      ],
                      "selectedMetrics": [],
                      "summaryType": "violin",
                      "trendLine": "none",
                      "view": "grid"
                    }
                  ],
                  [
                    "size",
                    1
                  ]
                ],
                "ownerID": {}
              },
              "dx": {
                "areaType": "hexbin",
                "barGrouping": "Clustered",
                "chart": {
                  "dim1": "Country",
                  "dim2": "none",
                  "dim3": "none",
                  "metric1": "ItemRevenue",
                  "metric2": "none",
                  "metric3": "none",
                  "metric4": "none",
                  "networkLabel": "none",
                  "timeseriesSort": "array-order"
                },
                "colors": [
                  "#DA752E",
                  "#E5C209",
                  "#1441A0",
                  "#B86117",
                  "#4D430C",
                  "#1DB390",
                  "#B3331D",
                  "#088EB2",
                  "#417505",
                  "#E479A8",
                  "#F9F39E",
                  "#5782DC",
                  "#EBA97B",
                  "#A2AB60",
                  "#B291CF",
                  "#8DD2C2",
                  "#E6A19F",
                  "#3DC7E0",
                  "#98CE5B"
                ],
                "hierarchyType": "dendrogram",
                "lineType": "line",
                "marginalGraphics": "none",
                "networkType": "force",
                "pieceType": "bar",
                "selectedDimensions": [
                  "Country"
                ],
                "selectedMetrics": [],
                "summaryType": "violin",
                "trendLine": "none",
                "view": "grid"
              },
              "size": 4
            }
          },
          "output_type": "display_data"
        }
      ],
      "source": "import pandas as pd\r\npd.options.display.html.table_schema = True\r\npd.options.display.max_rows = None\r\n\r\ndf_revenue = df_cosmos.groupby(\"Country\").sum().reset_index()\r\ndisplay(df_revenue)"
    },
    {
      "cell_type": "code",
      "execution_count": 8,
      "metadata": {
        "collapsed": true,
        "execution": {
          "iopub.execute_input": "2020-12-21T15:11:30.794Z",
          "iopub.status.busy": "2020-12-21T15:11:30.437Z",
          "iopub.status.idle": "2020-12-21T15:11:30.980Z",
          "shell.execute_reply": "2020-12-21T15:11:30.994Z"
        },
        "jupyter": {
          "outputs_hidden": false,
          "source_hidden": false
        },
        "nteract": {
          "transient": {
            "deleting": false
          }
        },
        "trusted": false
      },
      "outputs": [
        {
          "data": {
            "application/json": {
              "cell": {
                "!": "OSMagics",
                "HTML": "Other",
                "SVG": "Other",
                "bash": "Other",
                "capture": "ExecutionMagics",
                "debug": "ExecutionMagics",
                "file": "Other",
                "html": "DisplayMagics",
                "javascript": "DisplayMagics",
                "js": "DisplayMagics",
                "latex": "DisplayMagics",
                "markdown": "DisplayMagics",
                "perl": "Other",
                "prun": "ExecutionMagics",
                "pypy": "Other",
                "python": "Other",
                "python2": "Other",
                "python3": "Other",
                "ruby": "Other",
                "script": "ScriptMagics",
                "sh": "Other",
                "sql": "CosmosMagics",
                "svg": "DisplayMagics",
                "sx": "OSMagics",
                "system": "OSMagics",
                "time": "ExecutionMagics",
                "timeit": "ExecutionMagics",
                "writefile": "OSMagics"
              },
              "line": {
                "alias": "OSMagics",
                "alias_magic": "BasicMagics",
                "autoawait": "AsyncMagics",
                "autocall": "AutoMagics",
                "automagic": "AutoMagics",
                "autosave": "KernelMagics",
                "bookmark": "OSMagics",
                "cat": "Other",
                "cd": "OSMagics",
                "clear": "KernelMagics",
                "colors": "BasicMagics",
                "conda": "PackagingMagics",
                "config": "ConfigMagics",
                "connect_info": "KernelMagics",
                "container": "CosmosMagics",
                "cp": "Other",
                "database": "CosmosMagics",
                "debug": "ExecutionMagics",
                "dhist": "OSMagics",
                "dirs": "OSMagics",
                "disable_autoconvert_to_dataframe": "CosmosMagics",
                "doctest_mode": "BasicMagics",
                "ed": "Other",
                "edit": "KernelMagics",
                "enable_autoconvert_to_dataframe": "CosmosMagics",
                "env": "OSMagics",
                "gui": "BasicMagics",
                "hist": "Other",
                "history": "HistoryMagics",
                "killbgscripts": "ScriptMagics",
                "ldir": "Other",
                "less": "KernelMagics",
                "lf": "Other",
                "lk": "Other",
                "ll": "Other",
                "load": "CodeMagics",
                "load_ext": "ExtensionMagics",
                "loadpy": "CodeMagics",
                "logoff": "LoggingMagics",
                "logon": "LoggingMagics",
                "logstart": "LoggingMagics",
                "logstate": "LoggingMagics",
                "logstop": "LoggingMagics",
                "ls": "Other",
                "lsmagic": "BasicMagics",
                "lx": "Other",
                "macro": "ExecutionMagics",
                "magic": "BasicMagics",
                "man": "KernelMagics",
                "matplotlib": "PylabMagics",
                "mkdir": "Other",
                "more": "KernelMagics",
                "mv": "Other",
                "notebook": "BasicMagics",
                "page": "BasicMagics",
                "pastebin": "CodeMagics",
                "pdb": "ExecutionMagics",
                "pdef": "NamespaceMagics",
                "pdoc": "NamespaceMagics",
                "pfile": "NamespaceMagics",
                "pinfo": "NamespaceMagics",
                "pinfo2": "NamespaceMagics",
                "pip": "PackagingMagics",
                "popd": "OSMagics",
                "pprint": "BasicMagics",
                "precision": "BasicMagics",
                "prun": "ExecutionMagics",
                "psearch": "NamespaceMagics",
                "psource": "NamespaceMagics",
                "pushd": "OSMagics",
                "pwd": "OSMagics",
                "pycat": "OSMagics",
                "pylab": "PylabMagics",
                "qtconsole": "KernelMagics",
                "quickref": "BasicMagics",
                "recall": "HistoryMagics",
                "rehashx": "OSMagics",
                "reload_ext": "ExtensionMagics",
                "rep": "Other",
                "rerun": "HistoryMagics",
                "reset": "NamespaceMagics",
                "reset_selective": "NamespaceMagics",
                "rm": "Other",
                "rmdir": "Other",
                "run": "ExecutionMagics",
                "save": "CodeMagics",
                "sc": "OSMagics",
                "set_env": "OSMagics",
                "store": "StoreMagics",
                "sx": "OSMagics",
                "system": "OSMagics",
                "tb": "ExecutionMagics",
                "time": "ExecutionMagics",
                "timeit": "ExecutionMagics",
                "unalias": "OSMagics",
                "unload_ext": "ExtensionMagics",
                "who": "NamespaceMagics",
                "who_ls": "NamespaceMagics",
                "whos": "NamespaceMagics",
                "xdel": "NamespaceMagics",
                "xmode": "BasicMagics"
              }
            },
            "text/plain": "Available line magics:\n%alias  %alias_magic  %autoawait  %autocall  %automagic  %autosave  %bookmark  %cat  %cd  %clear  %colors  %conda  %config  %connect_info  %container  %cp  %database  %debug  %dhist  %dirs  %disable_autoconvert_to_dataframe  %doctest_mode  %ed  %edit  %enable_autoconvert_to_dataframe  %env  %gui  %hist  %history  %killbgscripts  %ldir  %less  %lf  %lk  %ll  %load  %load_ext  %loadpy  %logoff  %logon  %logstart  %logstate  %logstop  %ls  %lsmagic  %lx  %macro  %magic  %man  %matplotlib  %mkdir  %more  %mv  %notebook  %page  %pastebin  %pdb  %pdef  %pdoc  %pfile  %pinfo  %pinfo2  %pip  %popd  %pprint  %precision  %prun  %psearch  %psource  %pushd  %pwd  %pycat  %pylab  %qtconsole  %quickref  %recall  %rehashx  %reload_ext  %rep  %rerun  %reset  %reset_selective  %rm  %rmdir  %run  %save  %sc  %set_env  %store  %sx  %system  %tb  %time  %timeit  %unalias  %unload_ext  %who  %who_ls  %whos  %xdel  %xmode\n\nAvailable cell magics:\n%%!  %%HTML  %%SVG  %%bash  %%capture  %%debug  %%file  %%html  %%javascript  %%js  %%latex  %%markdown  %%perl  %%prun  %%pypy  %%python  %%python2  %%python3  %%ruby  %%script  %%sh  %%sql  %%svg  %%sx  %%system  %%time  %%timeit  %%writefile\n\nAutomagic is ON, % prefix IS NOT needed for line magics."
          },
          "execution_count": 8,
          "metadata": {},
          "output_type": "execute_result"
        }
      ],
      "source": "\r\n\r\n%lsmagic\r\ndatabase_client.replace_container(container_client,\r\n    partition_key=azure.cosmos.PartitionKey(path=\"/id\"),\r\n    indexing_policy={\r\n        'indexingMode': 'none'\r\n    })\r\nprint('Indexing policy updated')\r\ndatabase_client.replace_container(container_client,\r\n    partition_key=azure.cosmos.PartitionKey(path=\"/id\"),\r\n    indexing_policy={\r\n        'indexingMode': 'none'\r\n    })\r\nprint('Indexing policy updated')\r\ndatabase_client.replace_container(container_client,\r\n    partition_key=azure.cosmos.PartitionKey(path=\"/id\"),\r\n    indexing_policy={\r\n        'indexingMode': 'none'\r\n    })\r\nprint('Indexing policy updated')\r\ndatabase_client.replace_container(container_client,\r\n    partition_key=azure.cosmos.PartitionKey(path=\"/id\"),\r\n    indexing_policy={\r\n        'indexingMode': 'none'\r\n    })\r\nprint('Indexing policy updated')"
    },
    {
      "cell_type": "code",
      "execution_count": null,
      "metadata": {
        "collapsed": true,
        "jupyter": {
          "outputs_hidden": false,
          "source_hidden": false
        },
        "nteract": {
          "transient": {
            "deleting": false
          }
        },
        "trusted": false
      },
      "outputs": [],
      "source": ""
    }
  ],
  "metadata": {
    "language_info": {
      "file_extension": "ipynb",
      "mimetype": "application/json",
      "name": "python",
      "version": "3.7"
    },
    "nteract": {
      "version": "dataExplorer 1.0"
    }
  },
  "nbformat": 4,
  "nbformat_minor": 4
}
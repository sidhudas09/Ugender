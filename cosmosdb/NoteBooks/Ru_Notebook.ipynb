{
  "cells": [
    {
      "cell_type": "code",
      "execution_count": 1,
      "metadata": {
        "collapsed": true,
        "execution": {
          "iopub.execute_input": "2020-12-21T14:44:40.951Z",
          "iopub.status.busy": "2020-12-21T14:44:40.941Z",
          "iopub.status.idle": "2020-12-21T14:44:45.847Z",
          "shell.execute_reply": "2020-12-21T14:44:45.921Z"
        },
        "jupyter": {
          "outputs_hidden": false,
          "source_hidden": false
        },
        "nteract": {
          "transient": {
            "deleting": false
          }
        },
        "trusted": true
      },
      "outputs": [
        {
          "name": "stdout",
          "output_type": "stream",
          "text": "Database with id 'CosmosDBLevelRU' created\nCreated container with id 'container_0'\nCreated container with id 'container_1'\nCreated container with id 'container_2'\nCreated container with id 'container_3'\n"
        }
      ],
      "source": "from azure.cosmos.partition_key import PartitionKey\r\n\r\n# Create a new database if it doesn't already exist\r\ndatabase_id = 'CosmosDBLevelRU'\r\n\r\ndatabase = cosmos_client.create_database_if_not_exists(id=database_id, offer_throughput=400)\r\nprint('Database with id \\'{0}\\' created'.format(database_id))\r\n\r\n# Now we have a reference to the database we can use\r\ndatabase = cosmos_client.get_database_client(database_id)\r\n\r\n# Delete existing containers\r\ncontainers = database.list_containers()\r\nfor container in containers:\r\n    database.delete_container(container['id'])    \r\n    print('Existing container with id \\'{0}\\' dropped'.format(container['id']))\r\n\r\n# Create new containers\r\nfor i in range(4):\r\n    new_container_id = 'container_' + str(i)\r\n    database.create_container_if_not_exists(id=new_container_id, partition_key=PartitionKey(path=\"/id\"))\r\n    print('Created container with id \\'{0}\\''.format(new_container_id))"
    },
    {
      "cell_type": "code",
      "execution_count": 2,
      "metadata": {
        "collapsed": true,
        "execution": {
          "iopub.execute_input": "2020-12-21T14:47:28.663Z",
          "iopub.status.busy": "2020-12-21T14:47:28.623Z",
          "iopub.status.idle": "2020-12-21T14:47:29.200Z",
          "shell.execute_reply": "2020-12-21T14:47:29.252Z"
        },
        "jupyter": {
          "outputs_hidden": false,
          "source_hidden": false
        },
        "nteract": {
          "transient": {
            "deleting": false
          }
        },
        "trusted": true
      },
      "outputs": [
        {
          "name": "stdout",
          "output_type": "stream",
          "text": "Database created with id 'CosmosDatabase'\nContainer with id 'CosmosContainerDedicatedRU' created with '1000' RU/s\n"
        }
      ],
      "source": "from azure.cosmos.partition_key import PartitionKey\r\n\r\ndatabase_id = \"CosmosDatabase\"\r\ncontainer_id = \"CosmosContainerDedicatedRU\"\r\ncustom_offer_throughput = 1000\r\n\r\ndatabase = cosmos_client.create_database_if_not_exists(id=database_id)\r\nprint('Database created with id \\'{0}\\''.format(database_id))\r\n\r\n# Now we have a reference to the database we can use\r\ndatabase = cosmos_client.get_database_client(database_id)\r\n\r\ncontainer = database.create_container_if_not_exists(id=container_id, partition_key=PartitionKey(path=\"/id\"), offer_throughput=custom_offer_throughput)\r\nprint('Container with id \\'{0}\\' created with \\'{1}\\' RU/s'.format(container_id, custom_offer_throughput))\r\n\r\n# Now we have a reference to the container we can use\r\ncontainer = database.get_container_client(container_id)"
    },
    {
      "cell_type": "code",
      "execution_count": null,
      "metadata": {
        "collapsed": true,
        "jupyter": {
          "outputs_hidden": false,
          "source_hidden": false
        },
        "nteract": {
          "transient": {
            "deleting": false
          }
        },
        "trusted": true
      },
      "outputs": [],
      "source": "# Get container object\r\ndatabase_id = \"CosmosDatabase\"\r\ncontainer_id = \"CosmosContainerDedicatedRU\"\r\n\r\ncontainer = cosmos_client.get_database_client(database_id).get_container_client(container_id)\r\n\r\n# Get the current provisioned throughput\r\noffer = container.read_offer()\r\nprovisioned_throughput = offer.offer_throughput\r\n\r\nprint('Container \\'{0}\\' has provisioned throughput: \\'{1}\\' RU/s'.format(container_id, provisioned_throughput))"
    },
    {
      "cell_type": "code",
      "execution_count": 4,
      "metadata": {
        "collapsed": true,
        "execution": {
          "iopub.execute_input": "2020-12-21T14:52:32.047Z",
          "iopub.status.busy": "2020-12-21T14:52:31.997Z",
          "iopub.status.idle": "2020-12-21T14:52:32.207Z",
          "shell.execute_reply": "2020-12-21T14:52:32.223Z"
        },
        "jupyter": {
          "outputs_hidden": false,
          "source_hidden": false
        },
        "nteract": {
          "transient": {
            "deleting": false
          }
        },
        "trusted": true
      },
      "outputs": [
        {
          "name": "stdout",
          "output_type": "stream",
          "text": "Now we programatically change the RU/s on the container...\n\nContainer 'CosmosContainerDedicatedRU' now has provisioned throughput: '1100' RU/s\n"
        }
      ],
      "source": "# Get the current provisioned throughput\r\noffer = container.read_offer()\r\nprovisioned_throughput = offer.offer_throughput\r\n\r\n# Now, let's increase the RU on the container.\r\nprint('Now we programatically change the RU/s on the container...\\n')\r\nnew_provisioned_throughput = min(provisioned_throughput + 100, 2000) # We'll increment in units of 100, up to 1000 RU/s. \r\ncontainer.replace_throughput(new_provisioned_throughput)\r\n\r\nprint('Container \\'{0}\\' now has provisioned throughput: \\'{1}\\' RU/s'.format(container_id, container.read_offer().offer_throughput))"
    },
    {
      "cell_type": "code",
      "execution_count": null,
      "metadata": {
        "collapsed": true,
        "jupyter": {
          "outputs_hidden": false,
          "source_hidden": false
        },
        "nteract": {
          "transient": {
            "deleting": false
          }
        },
        "trusted": true
      },
      "outputs": [],
      "source": ""
    }
  ],
  "metadata": {
    "language_info": {
      "file_extension": "ipynb",
      "mimetype": "application/json",
      "name": "python",
      "version": "3.7"
    },
    "nteract": {
      "version": "dataExplorer 1.0"
    }
  },
  "nbformat": 4,
  "nbformat_minor": 4
}
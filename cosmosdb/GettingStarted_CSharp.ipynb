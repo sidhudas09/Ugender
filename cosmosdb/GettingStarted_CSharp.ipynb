{
  "cells": [
    {
      "cell_type": "markdown",
      "metadata": {},
      "source": "# Get started with Azure Cosmos DB using the .NET SDK for SQL API\n\nIn this notebook, we'll learn how to do operations against the Azure Cosmos DB SQL API using the .NET SDK client library. We'll use an IOT scenario of vehicle telemetry to illustrate how to create resources, insert data, query and visualize our data. \n\n<br>To run this notebook, be sure to select the **CSharp** kernel in the command bar, so we can get all the language support features we need."
    },
    {
      "cell_type": "markdown",
      "metadata": {
        "nteract": {
          "transient": {
            "deleting": false
          }
        }
      },
      "source": "### Import NuGet packages\nFirst, we'll import the NuGet packages we need in this notebook. Use the syntax: ``#r \"nuget: PackageName, OptionalVersionNumber\"``. "
    },
    {
      "cell_type": "code",
      "execution_count": 1,
      "metadata": {
        "collapsed": true,
        "execution": {
          "iopub.status.busy": "2020-12-19T08:40:03.827Z",
          "iopub.status.idle": "2020-12-19T08:40:06.219Z",
          "shell.execute_reply": "2020-12-19T08:40:06.230Z"
        },
        "jupyter": {
          "outputs_hidden": false,
          "source_hidden": false
        },
        "nteract": {
          "transient": {
            "deleting": false
          }
        },
        "outputExpanded": false,
        "trusted": false
      },
      "outputs": [
        {
          "data": {},
          "execution_count": 1,
          "metadata": {},
          "output_type": "execute_result"
        }
      ],
      "source": "#r \"nuget: Bogus\"\n#r \"nuget: System.Linq\"\n#r \"nuget: System.Linq.Expressions\""
    },
    {
      "cell_type": "markdown",
      "metadata": {},
      "source": "### Create database and containers\nNext, we'll create a new database and container to hold our data. Note when we create the container, we select a value for the partition key: we'll partition our data by Vehicle Identification Number (VIN), as it has a high cardinality (important for workloads during a lot of writes, e.g. IOT workloads) and evenly distributes the request and storage volume. Choosing a good partition key is \"key\" to getting good scale and performance from Azure Cosmos DB, so it's important we follow the [best practices](https://docs.microsoft.com/azure/cosmos-db/partitioning-overview)!\n\nThe type of container this will create depends on the capacity mode of your Cosmos DB account:\n- On a provisioned throughput account, this will create a container provisioned at 400 RU/s, the minimum RU/s for any provisioned throughput container.\n- On a serverless account, this will create a serverless container.\n"
    },
    {
      "cell_type": "code",
      "execution_count": 1,
      "metadata": {
        "collapsed": false,
        "execution": {
          "iopub.execute_input": "2020-12-19T08:40:15.230Z",
          "iopub.status.busy": "2020-12-19T08:40:15.203Z",
          "iopub.status.idle": "2020-12-19T08:40:15.320Z",
          "shell.execute_reply": "2020-12-19T08:40:15.323Z"
        },
        "inputHidden": false,
        "outputHidden": false,
        "trusted": false
      },
      "outputs": [
        {
          "data": {},
          "execution_count": 2,
          "metadata": {},
          "output_type": "execute_result"
        },
        {
          "data": {
            "text/markdown": "\nCreated database CosmosIOTDemo and container VehicleData. You can see these new resources by refreshing your resource pane under the Data section.\n",
            "text/plain": "<IPython.core.display.Markdown object>"
          },
          "metadata": {},
          "output_type": "display_data"
        }
      ],
      "source": "using System;\nusing Microsoft.Azure.Cosmos;\nusing System.Collections;\n\n// Initialize a new instance of CosmosClient using the built-in account endpoint and key parameters\nCosmosClient cosmosClient = new CosmosClient(Cosmos.Endpoint, Cosmos.Key);\n\n// Create a new database and a new container\nMicrosoft.Azure.Cosmos.Database database = await cosmosClient.CreateDatabaseIfNotExistsAsync(\"CosmosIOTDemo\");\nContainer container = await database.CreateContainerIfNotExistsAsync(\"VehicleData\", \"/vin\");\n\nDisplay.AsMarkdown(@\"\nCreated database CosmosIOTDemo and container VehicleData. You can see these new resources by refreshing your resource pane under the Data section.\n\");"
    },
    {
      "cell_type": "markdown",
      "metadata": {},
      "source": "### Create C# classes to represent our TelemetryEvent\nWe can create classes to represent the items we will be inserting into our container. In this sample, we'll be working with vehicle telemetry data that contains sensor information."
    },
    {
      "cell_type": "code",
      "execution_count": 3,
      "metadata": {
        "collapsed": false,
        "execution": {
          "iopub.status.busy": "2020-12-19T08:40:20.590Z",
          "iopub.status.idle": "2020-12-19T08:40:20.742Z",
          "shell.execute_reply": "2020-12-19T08:40:20.749Z"
        },
        "inputHidden": false,
        "outputHidden": false,
        "trusted": false
      },
      "outputs": [
        {
          "data": {},
          "execution_count": 3,
          "metadata": {},
          "output_type": "execute_result"
        }
      ],
      "source": "using System;\n\nclass TelemetryEvent\n{\n    public string id { get; set; }\n    \n    public string vin { get; set; }\n\n    public string eventName { get; set; }\n\n    public string vehicleType { get; set; }\n        \n    public string fuelType {get; set; }    \n\n    public double s1 { get; set; }\n\n    public double s2 { get; set; }\n\n    public double s3 { get; set; }\n\n    public DateTime timestamp { get; set; }\n\n    public string date { get; set; }\n\n    public string region { get; set; }\n\n}"
    },
    {
      "cell_type": "markdown",
      "metadata": {},
      "source": "### Insert data into our container\nFirst, we'll write a helper method we can call that randomly generates a set number of events that we will insert into our container. We'll use the [Bogus](https://github.com/bchavez/Bogus) library for .NET to easily generate sample data."
    },
    {
      "cell_type": "code",
      "execution_count": 4,
      "metadata": {
        "collapsed": false,
        "execution": {
          "iopub.status.busy": "2020-12-19T08:40:28.321Z",
          "iopub.status.idle": "2020-12-19T08:40:28.721Z",
          "shell.execute_reply": "2020-12-19T08:40:28.734Z"
        },
        "inputHidden": false,
        "outputHidden": false,
        "trusted": false
      },
      "outputs": [
        {
          "data": {},
          "execution_count": 4,
          "metadata": {},
          "output_type": "execute_result"
        }
      ],
      "source": "using System.Linq;\nusing System.Collections.Generic;\nusing System.Linq.Expressions;\nusing System;\nusing Bogus;\n\nstatic List<TelemetryEvent> GenerateTelemetryEvents(int numberOfEventsToGenerate)\n{\n    var eventTypes = new string[] { \"Harsh_break\", \"Airbag_deploy\", \"Check_engine_light\" };\n\n    var faker = new Faker();\n    \n    var vinList = Enumerable.Range(1, 10) //Generate 10 different vehicle ids\n    .Select(_ => _.ToString())\n    .ToList();\n    \n    var telemetryEvent = new Faker<TelemetryEvent>()\n    .StrictMode(true)\n    //Generate telemetry event\n    .RuleFor(o => o.id, f => Guid.NewGuid().ToString())\n    .RuleFor(o => o.vin, f => f.PickRandom(vinList))\n    .RuleFor(o => o.eventName, f => f.PickRandom(eventTypes))\n    .RuleFor(o => o.vehicleType, f => f.Vehicle.Type())\n    .RuleFor(o => o.fuelType, f => f.Vehicle.Fuel())\n    .RuleFor(o => o.timestamp, f => DateTime.Now) // just today's date\n    .RuleFor(o => o.date, (f, m) => $\"{m.timestamp.ToString(\"yyyy-MM-dd\")}\")\n    .RuleFor(o => o.s1, f => f.Random.Double(1, 2000))\n    .RuleFor(o => o.s2, f => f.Random.Double(1, 2000))\n    .RuleFor(o => o.s3, f => f.Random.Double(1, 2000))\n    .RuleFor(o => o.region, f => f.Address.Country());\n    \n    var events = telemetryEvent.Generate(numberOfEventsToGenerate);\n       \n    return events;\n\n}\n"
    },
    {
      "cell_type": "markdown",
      "metadata": {},
      "source": "Next, let's generate 100 events and write them to our container."
    },
    {
      "cell_type": "code",
      "execution_count": 2,
      "metadata": {
        "collapsed": false,
        "execution": {
          "iopub.execute_input": "2020-12-19T08:40:39.738Z",
          "iopub.status.busy": "2020-12-19T08:40:39.729Z",
          "iopub.status.idle": "2020-12-19T08:40:39.751Z",
          "shell.execute_reply": "2020-12-19T08:40:39.756Z"
        },
        "inputHidden": false,
        "outputHidden": false,
        "trusted": false
      },
      "outputs": [
        {
          "data": {},
          "execution_count": 5,
          "metadata": {},
          "output_type": "execute_result"
        },
        {
          "data": {
            "text/markdown": "\nCreated 100 items in VehicleData container. \n",
            "text/plain": "<IPython.core.display.Markdown object>"
          },
          "metadata": {},
          "output_type": "display_data"
        }
      ],
      "source": "var telemetryEvents = GenerateTelemetryEvents(100);\n\nforeach (TelemetryEvent telemetryEvent in telemetryEvents)\n{\n    var itemResponse = await container.CreateItemAsync<TelemetryEvent>(telemetryEvent);\n}\n\nDisplay.AsMarkdown(@\"\nCreated 100 items in VehicleData container. \n\");\n\n"
    },
    {
      "cell_type": "markdown",
      "metadata": {},
      "source": "### Query for items\nWe can run a [SQL query](https://docs.microsoft.com/azure/cosmos-db/sql-query-getting-started) against our container. Azure Cosmos DB returns results in pages, so we use the pattern of calling the [ReadNextAsync](https://docs.microsoft.com/dotnet/api/microsoft.azure.cosmos.feediterator.readnextasync?view=azure-dotnet) method on a [FeedIterator](https://docs.microsoft.com/dotnet/api/microsoft.azure.cosmos.container.getitemqueryiterator?view=azure-dotnet#Microsoft_Azure_Cosmos_Container_GetItemQueryIterator__1_Microsoft_Azure_Cosmos_QueryDefinition_System_String_Microsoft_Azure_Cosmos_QueryRequestOptions_). \n\nThe query ``SELECT * FROM c WHERE c.vin = '8'`` will return all documents for the specified ``vin``. Putting the partition key of ``vin`` in the WHERE clause ensures that we can run an efficient query. "
    },
    {
      "cell_type": "code",
      "execution_count": 6,
      "metadata": {
        "collapsed": true,
        "execution": {
          "iopub.status.busy": "2020-12-19T08:40:44.284Z",
          "iopub.status.idle": "2020-12-19T08:40:44.747Z",
          "shell.execute_reply": "2020-12-19T08:40:44.761Z"
        },
        "jupyter": {
          "outputs_hidden": false,
          "source_hidden": false
        },
        "nteract": {
          "transient": {
            "deleting": false
          }
        },
        "outputExpanded": false,
        "trusted": false
      },
      "outputs": [
        {
          "data": {
            "application/vnd.dataresource+json": {
              "data": [
                {
                  "date": "2020-12-19",
                  "eventName": "Harsh_break",
                  "fuelType": "Diesel",
                  "id": "4eb9b004-ed05-4315-9b7c-c449eb9a866a",
                  "index": 0,
                  "region": "Puerto Rico",
                  "s1": 353.0291982172193,
                  "s2": 1555.8090668780771,
                  "s3": 583.0236210012919,
                  "timestamp": "2020-12-19T08:40:38.2249438+00:00",
                  "vehicleType": "Minivan",
                  "vin": "8"
                },
                {
                  "date": "2020-12-19",
                  "eventName": "Airbag_deploy",
                  "fuelType": "Gasoline",
                  "id": "653184f0-8777-4ef8-94af-ba10385205f3",
                  "index": 1,
                  "region": "Cape Verde",
                  "s1": 364.67028813048745,
                  "s2": 903.5136974749685,
                  "s3": 1901.3170864802398,
                  "timestamp": "2020-12-19T08:40:38.225011+00:00",
                  "vehicleType": "Passenger Van",
                  "vin": "8"
                },
                {
                  "date": "2020-12-19",
                  "eventName": "Check_engine_light",
                  "fuelType": "Hybrid",
                  "id": "f3eb29a2-c130-4779-8867-887b504e2a6a",
                  "index": 2,
                  "region": "Mali",
                  "s1": 1128.075015636196,
                  "s2": 1653.4538170916278,
                  "s3": 1318.6657020923058,
                  "timestamp": "2020-12-19T08:40:38.2250293+00:00",
                  "vehicleType": "Minivan",
                  "vin": "8"
                },
                {
                  "date": "2020-12-19",
                  "eventName": "Harsh_break",
                  "fuelType": "Hybrid",
                  "id": "e7a2ed0f-a808-4953-ae9e-e6eb822c21de",
                  "index": 3,
                  "region": "Virgin Islands, U.S.",
                  "s1": 751.4889751935792,
                  "s2": 1750.1111450093385,
                  "s3": 1877.354588947424,
                  "timestamp": "2020-12-19T08:40:38.2250417+00:00",
                  "vehicleType": "Convertible",
                  "vin": "8"
                },
                {
                  "date": "2020-12-19",
                  "eventName": "Check_engine_light",
                  "fuelType": "Diesel",
                  "id": "b54ffaa3-b738-4cee-a639-f95a47353d9f",
                  "index": 4,
                  "region": "Liberia",
                  "s1": 1777.1474232953726,
                  "s2": 1135.3612832349545,
                  "s3": 1304.5348491917991,
                  "timestamp": "2020-12-19T08:40:38.2250479+00:00",
                  "vehicleType": "Passenger Van",
                  "vin": "8"
                }
              ],
              "schema": {
                "fields": [
                  {
                    "name": "index",
                    "type": "integer"
                  },
                  {
                    "name": "id",
                    "type": "string"
                  },
                  {
                    "name": "vin",
                    "type": "string"
                  },
                  {
                    "name": "eventName",
                    "type": "string"
                  },
                  {
                    "name": "vehicleType",
                    "type": "string"
                  },
                  {
                    "name": "fuelType",
                    "type": "string"
                  },
                  {
                    "name": "s1",
                    "type": "number"
                  },
                  {
                    "name": "s2",
                    "type": "number"
                  },
                  {
                    "name": "s3",
                    "type": "number"
                  },
                  {
                    "name": "timestamp",
                    "type": "string"
                  },
                  {
                    "name": "date",
                    "type": "string"
                  },
                  {
                    "name": "region",
                    "type": "string"
                  }
                ],
                "primaryKey": [
                  "index"
                ]
              }
            },
            "text/plain": "System.Collections.Generic.List`1[Submission#6+TelemetryEvent]"
          },
          "execution_count": 6,
          "metadata": {
            "application/vnd.dataresource+json": {
              "dx": {
                "areaType": "hexbin",
                "barGrouping": "Clustered",
                "chart": {
                  "dim1": "vin",
                  "dim2": "date",
                  "dim3": "none",
                  "metric1": "s1",
                  "metric2": "s2",
                  "metric3": "none",
                  "metric4": "none",
                  "networkLabel": "none",
                  "timeseriesSort": "array-order"
                },
                "colors": [
                  "#DA752E",
                  "#E5C209",
                  "#1441A0",
                  "#B86117",
                  "#4D430C",
                  "#1DB390",
                  "#B3331D",
                  "#088EB2",
                  "#417505",
                  "#E479A8",
                  "#F9F39E",
                  "#5782DC",
                  "#EBA97B",
                  "#A2AB60",
                  "#B291CF",
                  "#8DD2C2",
                  "#E6A19F",
                  "#3DC7E0",
                  "#98CE5B"
                ],
                "hierarchyType": "dendrogram",
                "lineType": "line",
                "marginalGraphics": "none",
                "networkType": "force",
                "pieceType": "bar",
                "selectedDimensions": [
                  "vin"
                ],
                "selectedMetrics": [],
                "summaryType": "violin",
                "trendLine": "none",
                "view": "grid"
              }
            }
          },
          "output_type": "execute_result"
        }
      ],
      "source": "QueryDefinition queryDefinition = new QueryDefinition(\"SELECT TOP 5 * FROM c WHERE c.vin = @vin\")\n                                      .WithParameter(\"@vin\", \"8\");\n\nFeedIterator<TelemetryEvent> queryResultSetIterator = container.GetItemQueryIterator<TelemetryEvent>(queryDefinition);\n\nList<TelemetryEvent> telemetryEvents = new List<TelemetryEvent>();\n\nwhile (queryResultSetIterator.HasMoreResults)\n{\n    FeedResponse<TelemetryEvent> currentResultSet = await queryResultSetIterator.ReadNextAsync();\n    foreach (TelemetryEvent telemetryEvent in currentResultSet)\n    {\n        telemetryEvents.Add(telemetryEvent);\n    }\n}\n\ntelemetryEvents"
    },
    {
      "cell_type": "markdown",
      "metadata": {},
      "source": "### Next steps\n- See [samples](https://github.com/Azure/azure-cosmos-dotnet-v3/tree/master/Microsoft.Azure.Cosmos.Samples) for the [Azure Cosmos DB .NET SDK](https://www.nuget.org/packages/Microsoft.Azure.Cosmos/)\n- Learn how to choose between [provisioned throughput and serverless](https://docs.microsoft.com/en-us/azure/cosmos-db/throughput-serverless)\n- Learn about how to choose the right [throughput (RU/s)](https://docs.microsoft.com/azure/cosmos-db/estimate-ru-with-capacity-planner) when using provisioned throughput\n- Learn about how to [choose a good partition key](https://docs.microsoft.com/azure/cosmos-db/partitioning-overview) and [model your data](https://docs.microsoft.com/azure/cosmos-db/how-to-model-partition-example)"
    }
  ],
  "metadata": {
    "kernelspec": {
      "displayName": "CSharp",
      "language": "csharp",
      "name": "csharp"
    },
    "language_info": {
      "codemirror_mode": "text/x-csharp",
      "file_extension": "ipynb",
      "mimetype": "application/json",
      "name": "csharp",
      "version": "7.3"
    },
    "nteract": {
      "version": "dataExplorer 1.0"
    }
  },
  "nbformat": 4,
  "nbformat_minor": 4
}